{
 "cells": [
  {
   "cell_type": "markdown",
   "id": "eb56fc1f",
   "metadata": {},
   "source": [
    "numpy broadcasting\n",
    "\n",
    "a = np.array[\n",
    "    [1,2,3]\n",
    "]\n",
    "\n",
    "b = 3\n",
    "\n",
    "c = a+b\n",
    "\n",
    "where pythoon numpy will broadcast this like\n",
    "3,3,3\n",
    "ie b is like b = [3,3,3]\n",
    "then do the operation.\n",
    "\n"
   ]
  },
  {
   "cell_type": "markdown",
   "id": "380bf3ef",
   "metadata": {},
   "source": [
    "also remember!\n",
    "\n",
    "0d array -> scalar,\n",
    "1d -> vector,\n",
    "2d -> matrix,\n",
    "nd(more than 2) ->tensor."
   ]
  },
  {
   "cell_type": "code",
   "execution_count": 1,
   "id": "8029c205",
   "metadata": {},
   "outputs": [
    {
     "name": "stdout",
     "output_type": "stream",
     "text": [
      "[6 7 8]\n"
     ]
    }
   ],
   "source": [
    "import numpy as np\n",
    "\n",
    "a = np.array([1,2,3])#1d\n",
    "b = 5   #scalar\n",
    "print(a+b)"
   ]
  },
  {
   "cell_type": "markdown",
   "id": "3c34de88",
   "metadata": {},
   "source": [
    "refer\n",
    "api,working of chat gpt\n"
   ]
  },
  {
   "cell_type": "markdown",
   "id": "49695ac1",
   "metadata": {},
   "source": [
    "numpy \n",
    "\n",
    "indexing\n",
    "slicing\n",
    "broadcasting\n",
    "aggregate function\n",
    "filtering"
   ]
  }
 ],
 "metadata": {
  "kernelspec": {
   "display_name": "venv (3.13.7)",
   "language": "python",
   "name": "python3"
  },
  "language_info": {
   "codemirror_mode": {
    "name": "ipython",
    "version": 3
   },
   "file_extension": ".py",
   "mimetype": "text/x-python",
   "name": "python",
   "nbconvert_exporter": "python",
   "pygments_lexer": "ipython3",
   "version": "3.13.7"
  }
 },
 "nbformat": 4,
 "nbformat_minor": 5
}
