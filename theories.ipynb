{
 "cells": [
  {
   "cell_type": "markdown",
   "id": "eb56fc1f",
   "metadata": {},
   "source": [
    "numpy broadcasting\n",
    "\n",
    "a = np.array[\n",
    "    [1,2,3]\n",
    "]\n",
    "\n",
    "b = 3\n",
    "\n",
    "c = a+b\n",
    "\n",
    "where pythoon numpy will broadcast this like\n",
    "3,3,3\n",
    "ie b is like b = [3,3,3]\n",
    "then do the operation.\n",
    "\n"
   ]
  },
  {
   "cell_type": "markdown",
   "id": "380bf3ef",
   "metadata": {},
   "source": []
  }
 ],
 "metadata": {
  "kernelspec": {
   "display_name": "venv (3.13.7)",
   "language": "python",
   "name": "python3"
  },
  "language_info": {
   "name": "python",
   "version": "3.13.7"
  }
 },
 "nbformat": 4,
 "nbformat_minor": 5
}
